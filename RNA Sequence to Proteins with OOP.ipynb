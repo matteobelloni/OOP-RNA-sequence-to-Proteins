{
 "cells": [
  {
   "cell_type": "markdown",
   "metadata": {},
   "source": [
    "## RNA Sequence to Proteins with OOP"
   ]
  },
  {
   "cell_type": "code",
   "execution_count": 51,
   "metadata": {},
   "outputs": [],
   "source": [
    "import pandas as pd\n",
    "import numpy as np"
   ]
  },
  {
   "cell_type": "markdown",
   "metadata": {},
   "source": [
    "Given a sequence of RNA codons establish about many amino acids for each type are present in the sequence. Codons can only be of 3 letters, if they are longer there is probably a problem with the entire sequence and you can ignore that and print an error message. Using OOP to find the solution"
   ]
  },
  {
   "cell_type": "code",
   "execution_count": 9,
   "metadata": {},
   "outputs": [],
   "source": [
    "codon_map_df = {'codon':['TTT','TTC','TTA','TCT','CTT','CAA','ACA'], 'amino_acid':['Phe','Phe','Leu','Ser','Leu','Gin','Thr']}\n",
    "codon_map_df = pd.DataFrame(data = codon_map_df)"
   ]
  },
  {
   "cell_type": "code",
   "execution_count": 10,
   "metadata": {},
   "outputs": [
    {
     "data": {
      "text/html": [
       "<div>\n",
       "<style scoped>\n",
       "    .dataframe tbody tr th:only-of-type {\n",
       "        vertical-align: middle;\n",
       "    }\n",
       "\n",
       "    .dataframe tbody tr th {\n",
       "        vertical-align: top;\n",
       "    }\n",
       "\n",
       "    .dataframe thead th {\n",
       "        text-align: right;\n",
       "    }\n",
       "</style>\n",
       "<table border=\"1\" class=\"dataframe\">\n",
       "  <thead>\n",
       "    <tr style=\"text-align: right;\">\n",
       "      <th></th>\n",
       "      <th>codon</th>\n",
       "      <th>amino_acid</th>\n",
       "    </tr>\n",
       "  </thead>\n",
       "  <tbody>\n",
       "    <tr>\n",
       "      <th>0</th>\n",
       "      <td>TTT</td>\n",
       "      <td>Phe</td>\n",
       "    </tr>\n",
       "    <tr>\n",
       "      <th>1</th>\n",
       "      <td>TTC</td>\n",
       "      <td>Phe</td>\n",
       "    </tr>\n",
       "    <tr>\n",
       "      <th>2</th>\n",
       "      <td>TTA</td>\n",
       "      <td>Leu</td>\n",
       "    </tr>\n",
       "    <tr>\n",
       "      <th>3</th>\n",
       "      <td>TCT</td>\n",
       "      <td>Ser</td>\n",
       "    </tr>\n",
       "    <tr>\n",
       "      <th>4</th>\n",
       "      <td>CTT</td>\n",
       "      <td>Leu</td>\n",
       "    </tr>\n",
       "    <tr>\n",
       "      <th>5</th>\n",
       "      <td>CAA</td>\n",
       "      <td>Gin</td>\n",
       "    </tr>\n",
       "    <tr>\n",
       "      <th>6</th>\n",
       "      <td>ACA</td>\n",
       "      <td>Thr</td>\n",
       "    </tr>\n",
       "  </tbody>\n",
       "</table>\n",
       "</div>"
      ],
      "text/plain": [
       "  codon amino_acid\n",
       "0   TTT        Phe\n",
       "1   TTC        Phe\n",
       "2   TTA        Leu\n",
       "3   TCT        Ser\n",
       "4   CTT        Leu\n",
       "5   CAA        Gin\n",
       "6   ACA        Thr"
      ]
     },
     "execution_count": 10,
     "metadata": {},
     "output_type": "execute_result"
    }
   ],
   "source": [
    "codon_map_df"
   ]
  },
  {
   "cell_type": "code",
   "execution_count": 20,
   "metadata": {},
   "outputs": [
    {
     "data": {
      "text/plain": [
       "{'TTT': 'Phe',\n",
       " 'TTC': 'Phe',\n",
       " 'TTA': 'Leu',\n",
       " 'TCT': 'Ser',\n",
       " 'CTT': 'Leu',\n",
       " 'CAA': 'Gin',\n",
       " 'ACA': 'Thr'}"
      ]
     },
     "execution_count": 20,
     "metadata": {},
     "output_type": "execute_result"
    }
   ],
   "source": [
    "#mappings_Country.set_index('Country IF').T.to_dict('records')[0]\n",
    "codon_map_dict = codon_map_df.set_index('codon').T.to_dict('records')[0]\n",
    "codon_map_dict"
   ]
  },
  {
   "cell_type": "code",
   "execution_count": 44,
   "metadata": {},
   "outputs": [],
   "source": [
    "class Codon:\n",
    "    def __init__(self, sequence):\n",
    "        self.sequence = sequence\n",
    "        self.splitted = []\n",
    "        self.mapped = []\n",
    "        \n",
    "    def split_sequence(self):\n",
    "        if len(self.sequence)%3 != 0:\n",
    "            print(\"Sequence is wrong\")\n",
    "            return None\n",
    "        else:\n",
    "            self.splitted = [self.sequence[i:i+3] for i in range(0,len(self.sequence),3)]\n",
    "            return self.splitted\n",
    "        \n",
    "    def map_sequence(self, mapping):\n",
    "        self.mapped = pd.Series(self.splitted).map(mapping).tolist()\n",
    "        self.mapped = [x for x in self.mapped if x == x]\n",
    "        return self.mapped        \n",
    "    \n",
    "    def count_aminoacids(self):\n",
    "        return pd.Series(self.mapped).value_counts()\n",
    "        \n"
   ]
  },
  {
   "cell_type": "code",
   "execution_count": 50,
   "metadata": {},
   "outputs": [
    {
     "data": {
      "text/plain": [
       "Leu    4\n",
       "Phe    4\n",
       "Thr    3\n",
       "Gin    3\n",
       "dtype: int64"
      ]
     },
     "execution_count": 50,
     "metadata": {},
     "output_type": "execute_result"
    }
   ],
   "source": [
    "cod = Codon('TTTTTTTTCTTATTACTTCTTCAACAACAAACAACAACATTC')\n",
    "cod.split_sequence()\n",
    "cod.map_sequence(codon_map_dict)\n",
    "cod.count_aminoacids()"
   ]
  },
  {
   "cell_type": "code",
   "execution_count": null,
   "metadata": {},
   "outputs": [],
   "source": []
  }
 ],
 "metadata": {
  "kernelspec": {
   "display_name": "Python 3",
   "language": "python",
   "name": "python3"
  },
  "language_info": {
   "codemirror_mode": {
    "name": "ipython",
    "version": 3
   },
   "file_extension": ".py",
   "mimetype": "text/x-python",
   "name": "python",
   "nbconvert_exporter": "python",
   "pygments_lexer": "ipython3",
   "version": "3.7.0"
  },
  "toc": {
   "base_numbering": 1,
   "nav_menu": {},
   "number_sections": true,
   "sideBar": true,
   "skip_h1_title": false,
   "title_cell": "Table of Contents",
   "title_sidebar": "Contents",
   "toc_cell": false,
   "toc_position": {},
   "toc_section_display": true,
   "toc_window_display": false
  }
 },
 "nbformat": 4,
 "nbformat_minor": 2
}
